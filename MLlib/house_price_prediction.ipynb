{
 "cells": [
  {
   "cell_type": "markdown",
   "metadata": {},
   "source": [
    "## House price prediction using pyspark"
   ]
  },
  {
   "cell_type": "code",
   "execution_count": 62,
   "metadata": {},
   "outputs": [],
   "source": [
    "from pyspark.sql import SparkSession"
   ]
  },
  {
   "cell_type": "code",
   "execution_count": 63,
   "metadata": {},
   "outputs": [],
   "source": [
    "ss = SparkSession.builder.appName(\"House_Price\").getOrCreate()"
   ]
  },
  {
   "cell_type": "code",
   "execution_count": 64,
   "metadata": {},
   "outputs": [],
   "source": [
    "df = ss.read.csv('D:\\\\Python Projects\\\\Pyspark\\\\MLlib\\\\USA_Housing.csv',header=True,inferSchema=True)"
   ]
  },
  {
   "cell_type": "code",
   "execution_count": 65,
   "metadata": {},
   "outputs": [
    {
     "name": "stdout",
     "output_type": "stream",
     "text": [
      "root\n",
      " |-- Avg Area Income: string (nullable = true)\n",
      " |-- Avg Area House Age: string (nullable = true)\n",
      " |-- Avg Area Number of Rooms: double (nullable = true)\n",
      " |-- Avg Area Number of Bedrooms: double (nullable = true)\n",
      " |-- Area Population: double (nullable = true)\n",
      " |-- Price: double (nullable = true)\n",
      " |-- Address: string (nullable = true)\n",
      "\n"
     ]
    }
   ],
   "source": [
    "df.printSchema()"
   ]
  },
  {
   "cell_type": "code",
   "execution_count": 66,
   "metadata": {},
   "outputs": [
    {
     "data": {
      "text/plain": [
       "[Row(Avg Area Income='79545.45857', Avg Area House Age='5.682861322', Avg Area Number of Rooms=7.009188143, Avg Area Number of Bedrooms=4.09, Area Population=23086.8005, Price=1059033.558, Address='208 Michael Ferry Apt. 674'),\n",
       " Row(Avg Area Income='Laurabury', Avg Area House Age=' NE 37010-5101\"', Avg Area Number of Rooms=None, Avg Area Number of Bedrooms=None, Area Population=None, Price=None, Address=None),\n",
       " Row(Avg Area Income='79248.64245', Avg Area House Age='6.002899808', Avg Area Number of Rooms=6.730821019, Avg Area Number of Bedrooms=3.09, Area Population=40173.07217, Price=1505890.915, Address='188 Johnson Views Suite 079'),\n",
       " Row(Avg Area Income='Lake Kathleen', Avg Area House Age=' CA 48958\"', Avg Area Number of Rooms=None, Avg Area Number of Bedrooms=None, Area Population=None, Price=None, Address=None)]"
      ]
     },
     "execution_count": 66,
     "metadata": {},
     "output_type": "execute_result"
    }
   ],
   "source": [
    "df.head(4)"
   ]
  },
  {
   "cell_type": "code",
   "execution_count": 67,
   "metadata": {},
   "outputs": [
    {
     "name": "stdout",
     "output_type": "stream",
     "text": [
      "+---------------+------------------+------------------------+---------------------------+---------------+-----------+--------------------+\n",
      "|Avg Area Income|Avg Area House Age|Avg Area Number of Rooms|Avg Area Number of Bedrooms|Area Population|      Price|             Address|\n",
      "+---------------+------------------+------------------------+---------------------------+---------------+-----------+--------------------+\n",
      "|    79545.45857|       5.682861322|             7.009188143|                       4.09|     23086.8005|1059033.558|208 Michael Ferry...|\n",
      "|      Laurabury|    NE 37010-5101\"|                    NULL|                       NULL|           NULL|       NULL|                NULL|\n",
      "|    79248.64245|       6.002899808|             6.730821019|                       3.09|    40173.07217|1505890.915|188 Johnson Views...|\n",
      "|  Lake Kathleen|         CA 48958\"|                    NULL|                       NULL|           NULL|       NULL|                NULL|\n",
      "|    61287.06718|        5.86588984|              8.51272743|                       5.13|     36882.1594|1058987.988|9127 Elizabeth St...|\n",
      "|     Danieltown|    WI 06482-3489\"|                    NULL|                       NULL|           NULL|       NULL|                NULL|\n",
      "|    63345.24005|       7.188236095|             5.586728665|                       3.26|    34310.24283|1260616.807|         USS Barnett|\n",
      "|  FPO AP 44820\"|              NULL|                    NULL|                       NULL|           NULL|       NULL|                NULL|\n",
      "|    59982.19723|       5.040554523|             7.839387785|                       4.23|    26354.10947|630943.4893|        USNS Raymond|\n",
      "|  FPO AE 09386\"|              NULL|                    NULL|                       NULL|           NULL|       NULL|                NULL|\n",
      "|    80175.75416|       4.988407758|             6.104512439|                       4.04|    26748.42842|1068138.074|06039 Jennifer Is...|\n",
      "|      Tracyport|         KS 16077\"|                    NULL|                       NULL|           NULL|       NULL|                NULL|\n",
      "|    64698.46343|       6.025335907|             8.147759585|                       3.41|    60828.24909|1502055.817|4759 Daniel Shoal...|\n",
      "|    Nguyenburgh|         CO 20247\"|                    NULL|                       NULL|           NULL|       NULL|                NULL|\n",
      "|    78394.33928|       6.989779748|             6.620477995|                       2.42|    36516.35897|1573936.564|   972 Joyce Viaduct|\n",
      "|   Lake William|    TN 17778-6483\"|                    NULL|                       NULL|           NULL|       NULL|                NULL|\n",
      "|    59927.66081|        5.36212557|             6.393120981|                        2.3|      29387.396|798869.5328|         USS Gilbert|\n",
      "|  FPO AA 20957\"|              NULL|                    NULL|                       NULL|           NULL|       NULL|                NULL|\n",
      "|    81885.92718|        4.42367179|             8.167688003|                        6.1|    40149.96575|1545154.813|  Unit 9446 Box 0958|\n",
      "|  DPO AE 97025\"|              NULL|                    NULL|                       NULL|           NULL|       NULL|                NULL|\n",
      "+---------------+------------------+------------------------+---------------------------+---------------+-----------+--------------------+\n",
      "only showing top 20 rows\n",
      "\n"
     ]
    }
   ],
   "source": [
    "df.show()"
   ]
  },
  {
   "cell_type": "code",
   "execution_count": 68,
   "metadata": {},
   "outputs": [
    {
     "name": "stdout",
     "output_type": "stream",
     "text": [
      "+---------------+------------------+------------------------+---------------------------+---------------+-----------+--------------------+\n",
      "|Avg Area Income|Avg Area House Age|Avg Area Number of Rooms|Avg Area Number of Bedrooms|Area Population|      Price|             Address|\n",
      "+---------------+------------------+------------------------+---------------------------+---------------+-----------+--------------------+\n",
      "|    79545.45857|       5.682861322|             7.009188143|                       4.09|     23086.8005|1059033.558|208 Michael Ferry...|\n",
      "|    79248.64245|       6.002899808|             6.730821019|                       3.09|    40173.07217|1505890.915|188 Johnson Views...|\n",
      "|    61287.06718|        5.86588984|              8.51272743|                       5.13|     36882.1594|1058987.988|9127 Elizabeth St...|\n",
      "|    63345.24005|       7.188236095|             5.586728665|                       3.26|    34310.24283|1260616.807|         USS Barnett|\n",
      "|    59982.19723|       5.040554523|             7.839387785|                       4.23|    26354.10947|630943.4893|        USNS Raymond|\n",
      "|    80175.75416|       4.988407758|             6.104512439|                       4.04|    26748.42842|1068138.074|06039 Jennifer Is...|\n",
      "|    64698.46343|       6.025335907|             8.147759585|                       3.41|    60828.24909|1502055.817|4759 Daniel Shoal...|\n",
      "|    78394.33928|       6.989779748|             6.620477995|                       2.42|    36516.35897|1573936.564|   972 Joyce Viaduct|\n",
      "|    59927.66081|        5.36212557|             6.393120981|                        2.3|      29387.396|798869.5328|         USS Gilbert|\n",
      "|    81885.92718|        4.42367179|             8.167688003|                        6.1|    40149.96575|1545154.813|  Unit 9446 Box 0958|\n",
      "|    80527.47208|       8.093512681|               5.0427468|                        4.1|    47224.35984|1707045.722|6368 John Motorwa...|\n",
      "|     50593.6955|       4.496512793|             7.467627404|                       4.49|    34343.99189|663732.3969|911 Castillo Park...|\n",
      "|    39033.80924|       7.671755373|             7.250029317|                        3.1|    39220.36147|1042814.098|209 Natasha Strea...|\n",
      "|    73163.66344|       6.919534825|             5.993187901|                       2.27|    32326.12314|1291331.518|829 Welch Track A...|\n",
      "|    69391.38018|       5.344776177|             8.406417715|                       4.37|    35521.29403| 1402818.21|  PSC 5330, Box 4420|\n",
      "|    73091.86675|       5.443156467|             8.517512711|                       4.01|    23929.52405| 1306674.66|   2278 Shannon View|\n",
      "|    79706.96306|       5.067889591|             8.219771123|                       3.12|    39717.81358|  1556786.6|   064 Hayley Unions|\n",
      "|    61929.07702|       4.788550242|             5.097009554|                        4.3|     24595.9015|528485.2467|   5498 Rachel Locks|\n",
      "|     63508.1943|        5.94716514|             7.187773835|                       5.12|    35719.65305|1019425.937|  Unit 7424 Box 2786|\n",
      "|     62085.2764|       5.739410844|             7.091808104|                       5.49|     44922.1067|1030591.429| 19696 Benjamin Cape|\n",
      "+---------------+------------------+------------------------+---------------------------+---------------+-----------+--------------------+\n",
      "only showing top 20 rows\n",
      "\n"
     ]
    }
   ],
   "source": [
    "df.na.drop(how='any').show()"
   ]
  },
  {
   "cell_type": "code",
   "execution_count": 69,
   "metadata": {},
   "outputs": [
    {
     "name": "stdout",
     "output_type": "stream",
     "text": [
      "root\n",
      " |-- Avg Area Income: string (nullable = true)\n",
      " |-- Avg Area House Age: string (nullable = true)\n",
      " |-- Avg Area Number of Rooms: double (nullable = true)\n",
      " |-- Avg Area Number of Bedrooms: double (nullable = true)\n",
      " |-- Area Population: double (nullable = true)\n",
      " |-- Price: double (nullable = true)\n",
      " |-- Address: string (nullable = true)\n",
      "\n"
     ]
    }
   ],
   "source": [
    "df.printSchema()"
   ]
  },
  {
   "cell_type": "code",
   "execution_count": 70,
   "metadata": {},
   "outputs": [
    {
     "data": {
      "text/plain": [
       "['Avg Area Income',\n",
       " 'Avg Area House Age',\n",
       " 'Avg Area Number of Rooms',\n",
       " 'Avg Area Number of Bedrooms',\n",
       " 'Area Population',\n",
       " 'Price',\n",
       " 'Address']"
      ]
     },
     "execution_count": 70,
     "metadata": {},
     "output_type": "execute_result"
    }
   ],
   "source": [
    "df.columns"
   ]
  },
  {
   "cell_type": "code",
   "execution_count": 71,
   "metadata": {},
   "outputs": [],
   "source": [
    "from pyspark.sql.functions import col\n",
    "from pyspark.sql.types import IntegerType, StringType,DoubleType"
   ]
  },
  {
   "cell_type": "code",
   "execution_count": 72,
   "metadata": {},
   "outputs": [],
   "source": [
    "df = df.withColumn(\"Avg Area Income\", col(\"Avg Area Income\").cast(DoubleType()))"
   ]
  },
  {
   "cell_type": "code",
   "execution_count": 73,
   "metadata": {},
   "outputs": [],
   "source": [
    "df = df.withColumn(\"Avg Area House Age\", col(\"Avg Area House Age\").cast(DoubleType()))"
   ]
  },
  {
   "cell_type": "code",
   "execution_count": 74,
   "metadata": {},
   "outputs": [
    {
     "name": "stdout",
     "output_type": "stream",
     "text": [
      "root\n",
      " |-- Avg Area Income: double (nullable = true)\n",
      " |-- Avg Area House Age: double (nullable = true)\n",
      " |-- Avg Area Number of Rooms: double (nullable = true)\n",
      " |-- Avg Area Number of Bedrooms: double (nullable = true)\n",
      " |-- Area Population: double (nullable = true)\n",
      " |-- Price: double (nullable = true)\n",
      " |-- Address: string (nullable = true)\n",
      "\n"
     ]
    }
   ],
   "source": [
    "df.printSchema()"
   ]
  },
  {
   "cell_type": "code",
   "execution_count": 75,
   "metadata": {},
   "outputs": [],
   "source": [
    "df_cleaned = df.na.drop(how='any')"
   ]
  },
  {
   "cell_type": "code",
   "execution_count": 79,
   "metadata": {},
   "outputs": [
    {
     "name": "stdout",
     "output_type": "stream",
     "text": [
      "+---------------+------------------+------------------------+---------------------------+---------------+-----------+--------------------+\n",
      "|Avg Area Income|Avg Area House Age|Avg Area Number of Rooms|Avg Area Number of Bedrooms|Area Population|      Price|             Address|\n",
      "+---------------+------------------+------------------------+---------------------------+---------------+-----------+--------------------+\n",
      "|    79545.45857|       5.682861322|             7.009188143|                       4.09|     23086.8005|1059033.558|208 Michael Ferry...|\n",
      "|    79248.64245|       6.002899808|             6.730821019|                       3.09|    40173.07217|1505890.915|188 Johnson Views...|\n",
      "|    61287.06718|        5.86588984|              8.51272743|                       5.13|     36882.1594|1058987.988|9127 Elizabeth St...|\n",
      "|    63345.24005|       7.188236095|             5.586728665|                       3.26|    34310.24283|1260616.807|         USS Barnett|\n",
      "|    59982.19723|       5.040554523|             7.839387785|                       4.23|    26354.10947|630943.4893|        USNS Raymond|\n",
      "|    80175.75416|       4.988407758|             6.104512439|                       4.04|    26748.42842|1068138.074|06039 Jennifer Is...|\n",
      "|    64698.46343|       6.025335907|             8.147759585|                       3.41|    60828.24909|1502055.817|4759 Daniel Shoal...|\n",
      "|    78394.33928|       6.989779748|             6.620477995|                       2.42|    36516.35897|1573936.564|   972 Joyce Viaduct|\n",
      "|    59927.66081|        5.36212557|             6.393120981|                        2.3|      29387.396|798869.5328|         USS Gilbert|\n",
      "|    81885.92718|        4.42367179|             8.167688003|                        6.1|    40149.96575|1545154.813|  Unit 9446 Box 0958|\n",
      "|    80527.47208|       8.093512681|               5.0427468|                        4.1|    47224.35984|1707045.722|6368 John Motorwa...|\n",
      "|     50593.6955|       4.496512793|             7.467627404|                       4.49|    34343.99189|663732.3969|911 Castillo Park...|\n",
      "|    39033.80924|       7.671755373|             7.250029317|                        3.1|    39220.36147|1042814.098|209 Natasha Strea...|\n",
      "|    73163.66344|       6.919534825|             5.993187901|                       2.27|    32326.12314|1291331.518|829 Welch Track A...|\n",
      "|    69391.38018|       5.344776177|             8.406417715|                       4.37|    35521.29403| 1402818.21|  PSC 5330, Box 4420|\n",
      "|    73091.86675|       5.443156467|             8.517512711|                       4.01|    23929.52405| 1306674.66|   2278 Shannon View|\n",
      "|    79706.96306|       5.067889591|             8.219771123|                       3.12|    39717.81358|  1556786.6|   064 Hayley Unions|\n",
      "|    61929.07702|       4.788550242|             5.097009554|                        4.3|     24595.9015|528485.2467|   5498 Rachel Locks|\n",
      "|     63508.1943|        5.94716514|             7.187773835|                       5.12|    35719.65305|1019425.937|  Unit 7424 Box 2786|\n",
      "|     62085.2764|       5.739410844|             7.091808104|                       5.49|     44922.1067|1030591.429| 19696 Benjamin Cape|\n",
      "+---------------+------------------+------------------------+---------------------------+---------------+-----------+--------------------+\n",
      "only showing top 20 rows\n",
      "\n"
     ]
    }
   ],
   "source": [
    "df_cleaned.show()"
   ]
  },
  {
   "cell_type": "code",
   "execution_count": 80,
   "metadata": {},
   "outputs": [
    {
     "name": "stdout",
     "output_type": "stream",
     "text": [
      "+---------------+------------------+------------------------+---------------------------+---------------+-----------+--------------------+\n",
      "|Avg Area Income|Avg Area House Age|Avg Area Number of Rooms|Avg Area Number of Bedrooms|Area Population|      Price|             Address|\n",
      "+---------------+------------------+------------------------+---------------------------+---------------+-----------+--------------------+\n",
      "|    79545.45857|       5.682861322|             7.009188143|                       4.09|     23086.8005|1059033.558|208 Michael Ferry...|\n",
      "|           NULL|              NULL|                    NULL|                       NULL|           NULL|       NULL|                NULL|\n",
      "|    79248.64245|       6.002899808|             6.730821019|                       3.09|    40173.07217|1505890.915|188 Johnson Views...|\n",
      "|           NULL|              NULL|                    NULL|                       NULL|           NULL|       NULL|                NULL|\n",
      "|    61287.06718|        5.86588984|              8.51272743|                       5.13|     36882.1594|1058987.988|9127 Elizabeth St...|\n",
      "|           NULL|              NULL|                    NULL|                       NULL|           NULL|       NULL|                NULL|\n",
      "|    63345.24005|       7.188236095|             5.586728665|                       3.26|    34310.24283|1260616.807|         USS Barnett|\n",
      "|           NULL|              NULL|                    NULL|                       NULL|           NULL|       NULL|                NULL|\n",
      "|    59982.19723|       5.040554523|             7.839387785|                       4.23|    26354.10947|630943.4893|        USNS Raymond|\n",
      "|           NULL|              NULL|                    NULL|                       NULL|           NULL|       NULL|                NULL|\n",
      "|    80175.75416|       4.988407758|             6.104512439|                       4.04|    26748.42842|1068138.074|06039 Jennifer Is...|\n",
      "|           NULL|              NULL|                    NULL|                       NULL|           NULL|       NULL|                NULL|\n",
      "|    64698.46343|       6.025335907|             8.147759585|                       3.41|    60828.24909|1502055.817|4759 Daniel Shoal...|\n",
      "|           NULL|              NULL|                    NULL|                       NULL|           NULL|       NULL|                NULL|\n",
      "|    78394.33928|       6.989779748|             6.620477995|                       2.42|    36516.35897|1573936.564|   972 Joyce Viaduct|\n",
      "|           NULL|              NULL|                    NULL|                       NULL|           NULL|       NULL|                NULL|\n",
      "|    59927.66081|        5.36212557|             6.393120981|                        2.3|      29387.396|798869.5328|         USS Gilbert|\n",
      "|           NULL|              NULL|                    NULL|                       NULL|           NULL|       NULL|                NULL|\n",
      "|    81885.92718|        4.42367179|             8.167688003|                        6.1|    40149.96575|1545154.813|  Unit 9446 Box 0958|\n",
      "|           NULL|              NULL|                    NULL|                       NULL|           NULL|       NULL|                NULL|\n",
      "+---------------+------------------+------------------------+---------------------------+---------------+-----------+--------------------+\n",
      "only showing top 20 rows\n",
      "\n"
     ]
    }
   ],
   "source": [
    "df.show()"
   ]
  },
  {
   "cell_type": "code",
   "execution_count": 76,
   "metadata": {},
   "outputs": [],
   "source": [
    "from pyspark.ml.feature import VectorAssembler\n",
    "featureAssembler = VectorAssembler(inputCols=['Avg Area Income',\n",
    " 'Avg Area House Age',\n",
    " 'Avg Area Number of Rooms',\n",
    " 'Avg Area Number of Bedrooms',\n",
    " 'Area Population'],outputCol='Independent Feature')"
   ]
  },
  {
   "cell_type": "code",
   "execution_count": 81,
   "metadata": {},
   "outputs": [],
   "source": [
    "output = featureAssembler.transform(df_cleaned)"
   ]
  },
  {
   "cell_type": "code",
   "execution_count": 82,
   "metadata": {},
   "outputs": [
    {
     "name": "stdout",
     "output_type": "stream",
     "text": [
      "+---------------+------------------+------------------------+---------------------------+---------------+-----------+--------------------+--------------------+\n",
      "|Avg Area Income|Avg Area House Age|Avg Area Number of Rooms|Avg Area Number of Bedrooms|Area Population|      Price|             Address| Independent Feature|\n",
      "+---------------+------------------+------------------------+---------------------------+---------------+-----------+--------------------+--------------------+\n",
      "|    79545.45857|       5.682861322|             7.009188143|                       4.09|     23086.8005|1059033.558|208 Michael Ferry...|[79545.45857,5.68...|\n",
      "|    79248.64245|       6.002899808|             6.730821019|                       3.09|    40173.07217|1505890.915|188 Johnson Views...|[79248.64245,6.00...|\n",
      "|    61287.06718|        5.86588984|              8.51272743|                       5.13|     36882.1594|1058987.988|9127 Elizabeth St...|[61287.06718,5.86...|\n",
      "|    63345.24005|       7.188236095|             5.586728665|                       3.26|    34310.24283|1260616.807|         USS Barnett|[63345.24005,7.18...|\n",
      "|    59982.19723|       5.040554523|             7.839387785|                       4.23|    26354.10947|630943.4893|        USNS Raymond|[59982.19723,5.04...|\n",
      "|    80175.75416|       4.988407758|             6.104512439|                       4.04|    26748.42842|1068138.074|06039 Jennifer Is...|[80175.75416,4.98...|\n",
      "|    64698.46343|       6.025335907|             8.147759585|                       3.41|    60828.24909|1502055.817|4759 Daniel Shoal...|[64698.46343,6.02...|\n",
      "|    78394.33928|       6.989779748|             6.620477995|                       2.42|    36516.35897|1573936.564|   972 Joyce Viaduct|[78394.33928,6.98...|\n",
      "|    59927.66081|        5.36212557|             6.393120981|                        2.3|      29387.396|798869.5328|         USS Gilbert|[59927.66081,5.36...|\n",
      "|    81885.92718|        4.42367179|             8.167688003|                        6.1|    40149.96575|1545154.813|  Unit 9446 Box 0958|[81885.92718,4.42...|\n",
      "|    80527.47208|       8.093512681|               5.0427468|                        4.1|    47224.35984|1707045.722|6368 John Motorwa...|[80527.47208,8.09...|\n",
      "|     50593.6955|       4.496512793|             7.467627404|                       4.49|    34343.99189|663732.3969|911 Castillo Park...|[50593.6955,4.496...|\n",
      "|    39033.80924|       7.671755373|             7.250029317|                        3.1|    39220.36147|1042814.098|209 Natasha Strea...|[39033.80924,7.67...|\n",
      "|    73163.66344|       6.919534825|             5.993187901|                       2.27|    32326.12314|1291331.518|829 Welch Track A...|[73163.66344,6.91...|\n",
      "|    69391.38018|       5.344776177|             8.406417715|                       4.37|    35521.29403| 1402818.21|  PSC 5330, Box 4420|[69391.38018,5.34...|\n",
      "|    73091.86675|       5.443156467|             8.517512711|                       4.01|    23929.52405| 1306674.66|   2278 Shannon View|[73091.86675,5.44...|\n",
      "|    79706.96306|       5.067889591|             8.219771123|                       3.12|    39717.81358|  1556786.6|   064 Hayley Unions|[79706.96306,5.06...|\n",
      "|    61929.07702|       4.788550242|             5.097009554|                        4.3|     24595.9015|528485.2467|   5498 Rachel Locks|[61929.07702,4.78...|\n",
      "|     63508.1943|        5.94716514|             7.187773835|                       5.12|    35719.65305|1019425.937|  Unit 7424 Box 2786|[63508.1943,5.947...|\n",
      "|     62085.2764|       5.739410844|             7.091808104|                       5.49|     44922.1067|1030591.429| 19696 Benjamin Cape|[62085.2764,5.739...|\n",
      "+---------------+------------------+------------------------+---------------------------+---------------+-----------+--------------------+--------------------+\n",
      "only showing top 20 rows\n",
      "\n"
     ]
    }
   ],
   "source": [
    "output.show()"
   ]
  },
  {
   "cell_type": "code",
   "execution_count": 84,
   "metadata": {},
   "outputs": [
    {
     "name": "stdout",
     "output_type": "stream",
     "text": [
      "+--------------------+-----------+\n",
      "| Independent Feature|      Price|\n",
      "+--------------------+-----------+\n",
      "|[79545.45857,5.68...|1059033.558|\n",
      "|[79248.64245,6.00...|1505890.915|\n",
      "|[61287.06718,5.86...|1058987.988|\n",
      "|[63345.24005,7.18...|1260616.807|\n",
      "|[59982.19723,5.04...|630943.4893|\n",
      "|[80175.75416,4.98...|1068138.074|\n",
      "|[64698.46343,6.02...|1502055.817|\n",
      "|[78394.33928,6.98...|1573936.564|\n",
      "|[59927.66081,5.36...|798869.5328|\n",
      "|[81885.92718,4.42...|1545154.813|\n",
      "|[80527.47208,8.09...|1707045.722|\n",
      "|[50593.6955,4.496...|663732.3969|\n",
      "|[39033.80924,7.67...|1042814.098|\n",
      "|[73163.66344,6.91...|1291331.518|\n",
      "|[69391.38018,5.34...| 1402818.21|\n",
      "|[73091.86675,5.44...| 1306674.66|\n",
      "|[79706.96306,5.06...|  1556786.6|\n",
      "|[61929.07702,4.78...|528485.2467|\n",
      "|[63508.1943,5.947...|1019425.937|\n",
      "|[62085.2764,5.739...|1030591.429|\n",
      "+--------------------+-----------+\n",
      "only showing top 20 rows\n",
      "\n"
     ]
    }
   ],
   "source": [
    "final_data = output.select('Independent Feature','Price')\n",
    "final_data.show()"
   ]
  },
  {
   "cell_type": "markdown",
   "metadata": {},
   "source": [
    "## Train Test Split"
   ]
  },
  {
   "cell_type": "code",
   "execution_count": 86,
   "metadata": {},
   "outputs": [],
   "source": [
    "from pyspark.ml.regression import LinearRegression\n",
    "train_data,test_data = final_data.randomSplit([0.75,0.25])\n",
    "reg = LinearRegression(featuresCol='Independent Feature',labelCol='Price')\n",
    "reg = reg.fit(train_data)"
   ]
  },
  {
   "cell_type": "code",
   "execution_count": 87,
   "metadata": {},
   "outputs": [
    {
     "data": {
      "text/plain": [
       "DenseVector([21.439, 167403.5459, 120825.4112, 2228.4925, 15.2524])"
      ]
     },
     "execution_count": 87,
     "metadata": {},
     "output_type": "execute_result"
    }
   ],
   "source": [
    "reg.coefficients"
   ]
  },
  {
   "cell_type": "code",
   "execution_count": 89,
   "metadata": {},
   "outputs": [
    {
     "name": "stdout",
     "output_type": "stream",
     "text": [
      "+--------------------+-----------+------------------+\n",
      "| Independent Feature|      Price|        prediction|\n",
      "+--------------------+-----------+------------------+\n",
      "|[17796.63119,4.94...| 302355.836|102260.57401220826|\n",
      "|[35608.98624,6.93...|449331.5835| 558207.6155187422|\n",
      "|[38139.91904,5.57...|723750.0653| 579199.6395482747|\n",
      "|[38530.12448,4.26...|1267986.688| 909029.9507484953|\n",
      "|[38571.96367,7.42...|968411.6244| 847972.4623029018|\n",
      "|[39033.80924,7.67...|1042814.098|  958253.186848544|\n",
      "|[39411.65279,4.38...|539483.3966| 495927.8757370566|\n",
      "|[40185.73389,5.94...|529282.0844| 493728.0450131488|\n",
      "|[40581.77809,4.16...| 509499.589| 576822.8604151993|\n",
      "|[41533.01296,6.85...|682200.3006|497342.54785240674|\n",
      "|[42348.16246,6.79...|904785.1632| 941098.1747896555|\n",
      "|[42822.3111,6.612...|513215.9882|444490.69269990595|\n",
      "|[43401.44163,7.03...|736817.3769|  647927.668452017|\n",
      "|[43940.87136,7.24...|547918.3264| 686199.8795967908|\n",
      "|[43952.33621,5.41...| 324981.993| 483623.3029374862|\n",
      "|[44088.27418,7.55...|624482.7636| 719507.6577638625|\n",
      "|[44206.21021,6.35...|677277.5966|  616006.260196656|\n",
      "|[44214.60123,5.15...|786430.8996| 818461.6378291682|\n",
      "|[44247.14904,6.45...|503065.5056| 475547.6932909917|\n",
      "|[44577.15263,7.90...|959625.5302| 938418.5298505323|\n",
      "+--------------------+-----------+------------------+\n",
      "only showing top 20 rows\n",
      "\n"
     ]
    }
   ],
   "source": [
    "res = reg.evaluate(test_data)\n",
    "res.predictions.show()"
   ]
  },
  {
   "cell_type": "code",
   "execution_count": 90,
   "metadata": {},
   "outputs": [
    {
     "data": {
      "text/plain": [
       "80291.62950444534"
      ]
     },
     "execution_count": 90,
     "metadata": {},
     "output_type": "execute_result"
    }
   ],
   "source": [
    "res.meanAbsoluteError"
   ]
  }
 ],
 "metadata": {
  "kernelspec": {
   "display_name": "base",
   "language": "python",
   "name": "python3"
  },
  "language_info": {
   "codemirror_mode": {
    "name": "ipython",
    "version": 3
   },
   "file_extension": ".py",
   "mimetype": "text/x-python",
   "name": "python",
   "nbconvert_exporter": "python",
   "pygments_lexer": "ipython3",
   "version": "3.9.12"
  }
 },
 "nbformat": 4,
 "nbformat_minor": 2
}
