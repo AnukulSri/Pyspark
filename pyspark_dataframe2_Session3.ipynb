{
 "cells": [
  {
   "cell_type": "markdown",
   "metadata": {},
   "source": [
    "## Pyspark Handling Missing values"
   ]
  },
  {
   "cell_type": "code",
   "execution_count": 1,
   "metadata": {},
   "outputs": [],
   "source": [
    "from pyspark.sql import SparkSession"
   ]
  },
  {
   "cell_type": "code",
   "execution_count": 2,
   "metadata": {},
   "outputs": [],
   "source": [
    "sp = SparkSession.builder.appName('Dataframe').getOrCreate()"
   ]
  },
  {
   "cell_type": "code",
   "execution_count": 10,
   "metadata": {},
   "outputs": [],
   "source": [
    "df_spark = sp.read.csv('test1.csv',header=True,inferSchema=True)"
   ]
  },
  {
   "cell_type": "code",
   "execution_count": 11,
   "metadata": {},
   "outputs": [
    {
     "name": "stdout",
     "output_type": "stream",
     "text": [
      "+-------+----+----------+------+\n",
      "|   Name| Age|Experience|Salary|\n",
      "+-------+----+----------+------+\n",
      "|   Aman|  22|        10|100000|\n",
      "|Anshita|  25|         8| 90000|\n",
      "|   John|  27|         4| 80000|\n",
      "|   zara|  23|         4| 70000|\n",
      "|    Sam|  21|         3| 50000|\n",
      "|   NULL|  22|         6| 80000|\n",
      "|   NULL|NULL|      NULL|  NULL|\n",
      "|  sumit|  28|      NULL| 78497|\n",
      "+-------+----+----------+------+\n",
      "\n"
     ]
    }
   ],
   "source": [
    "df_spark.show()"
   ]
  },
  {
   "cell_type": "code",
   "execution_count": 29,
   "metadata": {},
   "outputs": [],
   "source": [
    "# df_spark = df_spark.withColumn('Salary',df_spark['Experience']*50000)"
   ]
  },
  {
   "cell_type": "code",
   "execution_count": 12,
   "metadata": {},
   "outputs": [
    {
     "name": "stdout",
     "output_type": "stream",
     "text": [
      "+-------+----+----------+------+\n",
      "|   Name| Age|Experience|Salary|\n",
      "+-------+----+----------+------+\n",
      "|   Aman|  22|        10|100000|\n",
      "|Anshita|  25|         8| 90000|\n",
      "|   John|  27|         4| 80000|\n",
      "|   zara|  23|         4| 70000|\n",
      "|    Sam|  21|         3| 50000|\n",
      "|   NULL|  22|         6| 80000|\n",
      "|   NULL|NULL|      NULL|  NULL|\n",
      "|  sumit|  28|      NULL| 78497|\n",
      "+-------+----+----------+------+\n",
      "\n"
     ]
    }
   ],
   "source": [
    "df_spark.show()"
   ]
  },
  {
   "cell_type": "markdown",
   "metadata": {},
   "source": [
    "### dropping columns"
   ]
  },
  {
   "cell_type": "code",
   "execution_count": 13,
   "metadata": {},
   "outputs": [
    {
     "name": "stdout",
     "output_type": "stream",
     "text": [
      "+----+----------+------+\n",
      "| Age|Experience|Salary|\n",
      "+----+----------+------+\n",
      "|  22|        10|100000|\n",
      "|  25|         8| 90000|\n",
      "|  27|         4| 80000|\n",
      "|  23|         4| 70000|\n",
      "|  21|         3| 50000|\n",
      "|  22|         6| 80000|\n",
      "|NULL|      NULL|  NULL|\n",
      "|  28|      NULL| 78497|\n",
      "+----+----------+------+\n",
      "\n"
     ]
    }
   ],
   "source": [
    "df_spark.drop('Name').show()"
   ]
  },
  {
   "cell_type": "code",
   "execution_count": 14,
   "metadata": {},
   "outputs": [
    {
     "name": "stdout",
     "output_type": "stream",
     "text": [
      "+-------+---+----------+------+\n",
      "|   Name|Age|Experience|Salary|\n",
      "+-------+---+----------+------+\n",
      "|   Aman| 22|        10|100000|\n",
      "|Anshita| 25|         8| 90000|\n",
      "|   John| 27|         4| 80000|\n",
      "|   zara| 23|         4| 70000|\n",
      "|    Sam| 21|         3| 50000|\n",
      "+-------+---+----------+------+\n",
      "\n"
     ]
    }
   ],
   "source": [
    "df_spark.na.drop().show()"
   ]
  },
  {
   "cell_type": "code",
   "execution_count": 15,
   "metadata": {},
   "outputs": [
    {
     "name": "stdout",
     "output_type": "stream",
     "text": [
      "+-------+---+----------+------+\n",
      "|   Name|Age|Experience|Salary|\n",
      "+-------+---+----------+------+\n",
      "|   Aman| 22|        10|100000|\n",
      "|Anshita| 25|         8| 90000|\n",
      "|   John| 27|         4| 80000|\n",
      "|   zara| 23|         4| 70000|\n",
      "|    Sam| 21|         3| 50000|\n",
      "+-------+---+----------+------+\n",
      "\n"
     ]
    }
   ],
   "source": [
    "df_spark.na.drop(how='any').show()"
   ]
  },
  {
   "cell_type": "code",
   "execution_count": 17,
   "metadata": {},
   "outputs": [
    {
     "name": "stdout",
     "output_type": "stream",
     "text": [
      "+-------+---+----------+------+\n",
      "|   Name|Age|Experience|Salary|\n",
      "+-------+---+----------+------+\n",
      "|   Aman| 22|        10|100000|\n",
      "|Anshita| 25|         8| 90000|\n",
      "|   John| 27|         4| 80000|\n",
      "|   zara| 23|         4| 70000|\n",
      "|    Sam| 21|         3| 50000|\n",
      "|   NULL| 22|         6| 80000|\n",
      "|  sumit| 28|      NULL| 78497|\n",
      "+-------+---+----------+------+\n",
      "\n"
     ]
    }
   ],
   "source": [
    "## Threshold\n",
    "\n",
    "df_spark.na.drop(how=\"any\",thresh=1).show()"
   ]
  },
  {
   "cell_type": "code",
   "execution_count": 18,
   "metadata": {},
   "outputs": [
    {
     "name": "stdout",
     "output_type": "stream",
     "text": [
      "+-------+---+----------+------+\n",
      "|   Name|Age|Experience|Salary|\n",
      "+-------+---+----------+------+\n",
      "|   Aman| 22|        10|100000|\n",
      "|Anshita| 25|         8| 90000|\n",
      "|   John| 27|         4| 80000|\n",
      "|   zara| 23|         4| 70000|\n",
      "|    Sam| 21|         3| 50000|\n",
      "|   NULL| 22|         6| 80000|\n",
      "+-------+---+----------+------+\n",
      "\n"
     ]
    }
   ],
   "source": [
    "## Subset\n",
    "\n",
    "df_spark.na.drop(how=\"any\",subset=['Experience']).show()\n"
   ]
  },
  {
   "cell_type": "markdown",
   "metadata": {},
   "source": [
    "## Filling Missing Value"
   ]
  },
  {
   "cell_type": "code",
   "execution_count": 19,
   "metadata": {},
   "outputs": [
    {
     "name": "stdout",
     "output_type": "stream",
     "text": [
      "+--------------+----+----------+------+\n",
      "|          Name| Age|Experience|Salary|\n",
      "+--------------+----+----------+------+\n",
      "|          Aman|  22|        10|100000|\n",
      "|       Anshita|  25|         8| 90000|\n",
      "|          John|  27|         4| 80000|\n",
      "|          zara|  23|         4| 70000|\n",
      "|           Sam|  21|         3| 50000|\n",
      "|Missing Values|  22|         6| 80000|\n",
      "|Missing Values|NULL|      NULL|  NULL|\n",
      "|         sumit|  28|      NULL| 78497|\n",
      "+--------------+----+----------+------+\n",
      "\n"
     ]
    }
   ],
   "source": [
    "df_spark.na.fill('Missing Values').show()"
   ]
  },
  {
   "cell_type": "code",
   "execution_count": 29,
   "metadata": {},
   "outputs": [
    {
     "name": "stdout",
     "output_type": "stream",
     "text": [
      "+-------+----+----------+------+\n",
      "|   Name| Age|Experience|Salary|\n",
      "+-------+----+----------+------+\n",
      "|   Aman|  22|        10|100000|\n",
      "|Anshita|  25|         8| 90000|\n",
      "|   John|  27|         4| 80000|\n",
      "|   zara|  23|         4| 70000|\n",
      "|    Sam|  21|         3| 50000|\n",
      "|   NULL|  22|         6| 80000|\n",
      "|   NULL|NULL|      NULL|  NULL|\n",
      "|  sumit|  28|      NULL| 78497|\n",
      "+-------+----+----------+------+\n",
      "\n"
     ]
    }
   ],
   "source": [
    "df_spark.na.fill('Missing Values',['Experience','Age']).show()\n"
   ]
  },
  {
   "cell_type": "code",
   "execution_count": 31,
   "metadata": {},
   "outputs": [],
   "source": [
    "from pyspark.ml.feature import Imputer\n",
    "\n",
    "imputer = Imputer(\n",
    "    inputCols=['Age','Experience','Salary'],\n",
    "    outputCols=[\"{}_inputer\".format(c) for c in ['age','Experience','Salary']]\n",
    ").setStrategy(\"mean\")"
   ]
  },
  {
   "cell_type": "code",
   "execution_count": 32,
   "metadata": {},
   "outputs": [
    {
     "name": "stdout",
     "output_type": "stream",
     "text": [
      "+-------+----+----------+------+-----------+------------------+--------------+\n",
      "|   Name| Age|Experience|Salary|age_inputer|Experience_inputer|Salary_inputer|\n",
      "+-------+----+----------+------+-----------+------------------+--------------+\n",
      "|   Aman|  22|        10|100000|         22|                10|        100000|\n",
      "|Anshita|  25|         8| 90000|         25|                 8|         90000|\n",
      "|   John|  27|         4| 80000|         27|                 4|         80000|\n",
      "|   zara|  23|         4| 70000|         23|                 4|         70000|\n",
      "|    Sam|  21|         3| 50000|         21|                 3|         50000|\n",
      "|   NULL|  22|         6| 80000|         22|                 6|         80000|\n",
      "|   NULL|NULL|      NULL|  NULL|         24|                 5|         78356|\n",
      "|  sumit|  28|      NULL| 78497|         28|                 5|         78497|\n",
      "+-------+----+----------+------+-----------+------------------+--------------+\n",
      "\n"
     ]
    }
   ],
   "source": [
    "imputer.fit(df_spark).transform(df_spark).show()"
   ]
  }
 ],
 "metadata": {
  "kernelspec": {
   "display_name": "base",
   "language": "python",
   "name": "python3"
  },
  "language_info": {
   "codemirror_mode": {
    "name": "ipython",
    "version": 3
   },
   "file_extension": ".py",
   "mimetype": "text/x-python",
   "name": "python",
   "nbconvert_exporter": "python",
   "pygments_lexer": "ipython3",
   "version": "3.9.12"
  }
 },
 "nbformat": 4,
 "nbformat_minor": 2
}
